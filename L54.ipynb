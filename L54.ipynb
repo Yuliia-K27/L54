{
 "cells": [
  {
   "cell_type": "code",
   "execution_count": 1,
   "id": "7d5a7066-ca8c-4d4a-989a-7ea7f679de43",
   "metadata": {},
   "outputs": [
    {
     "data": {
      "text/plain": [
       "Dataset MNIST\n",
       "    Number of datapoints: 10000\n",
       "    Root location: C:/Users/Admin/Downloads/Lesson 54\n",
       "    Split: Test\n",
       "    StandardTransform\n",
       "Transform: ToTensor()"
      ]
     },
     "execution_count": 1,
     "metadata": {},
     "output_type": "execute_result"
    }
   ],
   "source": [
    "# Необхідні бібліотеки.\n",
    "import torch\n",
    "import torch.nn as nn\n",
    "import torch.optim as optim\n",
    "import torch.utils.data as data\n",
    "from torch.utils.data import DataLoader\n",
    "import torch.nn.functional as F\n",
    "import torchvision.transforms as transforms\n",
    "from torchvision import datasets\n",
    "import matplotlib.pyplot as plt\n",
    "\n",
    "%matplotlib inline\n",
    "\n",
    "# Встановлення випадкового початкового числа для відтворюваності\n",
    "torch.manual_seed(42)\n",
    "\n",
    "# Перетворення зображення в числа.\n",
    "transform = transforms.ToTensor()\n",
    "\n",
    "# Завантаження тренувального та тестового датасетів.\n",
    "train_data = datasets.MNIST(root='C:/Users/Admin/Downloads/Lesson 54', train=True, download=True, transform=transform)\n",
    "test_data = datasets.MNIST(root='C:/Users/Admin/Downloads/Lesson 54', train=False, download=False, transform=transform)\n",
    "train_data\n",
    "test_data"
   ]
  },
  {
   "cell_type": "code",
   "execution_count": 2,
   "id": "6c6e31af-d40c-41f0-a224-c3679f85d9c7",
   "metadata": {},
   "outputs": [],
   "source": [
    "# Створення завантажувача даних для тренувального датасету.\n",
    "train_loader = DataLoader(train_data, batch_size=100, shuffle=True)\n",
    "\n",
    "# Створення завантажувача даних для тестового датасету.\n",
    "test_loader = DataLoader(test_data, batch_size=500, shuffle=False)"
   ]
  },
  {
   "cell_type": "code",
   "execution_count": 3,
   "id": "f5676490-045d-4948-94e7-5b227a3f5ad5",
   "metadata": {},
   "outputs": [],
   "source": [
    "# Параметри моделі.\n",
    "input_size = 784\n",
    "hidden_sizes = [120, 84]\n",
    "output_size = 10\n",
    "\n",
    "# Створення класу для нейромережі.\n",
    "class Classification(nn.Module):\n",
    "    def __init__(self):\n",
    "        super(Classification, self).__init__()\n",
    "        self.fc1 = nn.Linear(input_size, hidden_sizes[0])\n",
    "        self.fc2 = nn.Linear(hidden_sizes[0], hidden_sizes[1])\n",
    "        self.fc3 = nn.Linear(hidden_sizes[1], output_size)\n",
    "\n",
    "    def forward(self, x):\n",
    "        x = x.view(-1, input_size)\n",
    "        x = F.relu(self.fc1(x))\n",
    "        x = F.relu(self.fc2(x))\n",
    "        x = self.fc3(x)\n",
    "        return x"
   ]
  },
  {
   "cell_type": "code",
   "execution_count": 4,
   "id": "cb5dfa98-63b7-41d5-ba96-0787cea1a8e9",
   "metadata": {},
   "outputs": [],
   "source": [
    "# Створення об'єкту нейромережі.\n",
    "model = Classification()\n",
    "\n",
    "# Ініціалізація функції помилки та оптимізатора.\n",
    "criterion = nn.CrossEntropyLoss()\n",
    "optimizer = torch.optim.Adam(model.parameters(), lr=0.001)"
   ]
  },
  {
   "cell_type": "code",
   "execution_count": 5,
   "id": "8626c7cc-fbf7-4dfe-943c-ae9838ff1efb",
   "metadata": {},
   "outputs": [
    {
     "name": "stdout",
     "output_type": "stream",
     "text": [
      "BEFORE [Initial data shape]: torch.Size([100, 1, 28, 28])\n",
      "AFTER [Data after reshaping]: torch.Size([100, 784])\n"
     ]
    }
   ],
   "source": [
    "for images, labels in train_loader:\n",
    "    print('BEFORE [Initial data shape]:', images.size())\n",
    "    break\n",
    "print('AFTER [Data after reshaping]:', images.view(100, -1).size())"
   ]
  },
  {
   "cell_type": "code",
   "execution_count": null,
   "id": "31dc7e7d-f327-4fb0-90bd-0277e674f1d8",
   "metadata": {},
   "outputs": [
    {
     "name": "stdout",
     "output_type": "stream",
     "text": [
      "Епоха: 1/10, Помилка тренування: 0.3863, Точність тренування: 0.8913, Помилка тестування: 0.1861, Точність тестування: 0.9457\n",
      "Епоха: 2/10, Помилка тренування: 0.1568, Точність тренування: 0.9538, Помилка тестування: 0.1227, Точність тестування: 0.9631\n",
      "Епоха: 3/10, Помилка тренування: 0.1064, Точність тренування: 0.9686, Помилка тестування: 0.1006, Точність тестування: 0.9688\n",
      "Епоха: 4/10, Помилка тренування: 0.0791, Точність тренування: 0.9764, Помилка тестування: 0.0967, Точність тестування: 0.9692\n",
      "Епоха: 5/10, Помилка тренування: 0.0617, Точність тренування: 0.9809, Помилка тестування: 0.0779, Точність тестування: 0.9756\n",
      "Епоха: 6/10, Помилка тренування: 0.0492, Точність тренування: 0.9849, Помилка тестування: 0.0834, Точність тестування: 0.9721\n",
      "Епоха: 7/10, Помилка тренування: 0.0393, Точність тренування: 0.9881, Помилка тестування: 0.0770, Точність тестування: 0.9769\n",
      "Епоха: 8/10, Помилка тренування: 0.0334, Точність тренування: 0.9893, Помилка тестування: 0.0786, Точність тестування: 0.9755\n",
      "Епоха: 9/10, Помилка тренування: 0.0261, Точність тренування: 0.9921, Помилка тестування: 0.0792, Точність тестування: 0.9780\n",
      "Епоха: 10/10, Помилка тренування: 0.0236, Точність тренування: 0.9921, Помилка тестування: 0.0792, Точність тестування: 0.9762\n"
     ]
    }
   ],
   "source": [
    "# Тренування моделі.\n",
    "epochs = 10\n",
    "train_losses = []\n",
    "test_losses = []\n",
    "train_acc = []\n",
    "test_acc = []\n",
    "\n",
    "for epoch in range(epochs):\n",
    "    train_loss = 0.0\n",
    "    train_accuracy = 0.0\n",
    "\n",
    "    # Проходження по тренувальним пакетам.\n",
    "    model.train()\n",
    "    for images, labels in train_loader:\n",
    "        optimizer.zero_grad()\n",
    "        output = model(images)\n",
    "        loss = criterion(output, labels)\n",
    "        loss.backward()\n",
    "        optimizer.step()\n",
    "\n",
    "        _, predicted = torch.max(output.data, 1)\n",
    "        train_accuracy += (predicted == labels).sum().item()\n",
    "        train_loss += loss.item()\n",
    "\n",
    "    train_accuracy /= len(train_data)\n",
    "    train_loss /= len(train_loader)\n",
    "    train_losses.append(train_loss)\n",
    "    train_acc.append(train_accuracy)\n",
    "\n",
    "    # Оцінка моделі на тестових даних.\n",
    "    model.eval()\n",
    "    with torch.no_grad():\n",
    "        test_loss = 0.0\n",
    "        test_accuracy = 0.0\n",
    "        for images, labels in test_loader:\n",
    "            output = model(images)\n",
    "            loss = criterion(output, labels)\n",
    "            _, predicted = torch.max(output.data, 1)\n",
    "            test_accuracy += (predicted == labels).sum().item()\n",
    "            test_loss += loss.item()\n",
    "\n",
    "        test_accuracy /= len(test_data)\n",
    "        test_loss /= len(test_loader)\n",
    "        test_losses.append(test_loss)\n",
    "        test_acc.append(test_accuracy)\n",
    "\n",
    "    # Виведення прогресу під час тренування.\n",
    "    print(f'Епоха: {epoch+1}/{epochs}, Помилка тренування: {train_loss:.4f}, Точність тренування: {train_accuracy:.4f}, Помилка тестування: {test_loss:.4f}, Точність тестування: {test_accuracy:.4f}')\n",
    "\n",
    "# Візуалізація прогресу тренування.\n",
    "plt.figure(figsize=(12, 5))\n",
    "plt.subplot(1, 2, 1)\n",
    "plt.plot(range(1, epochs + 1), train_losses, label='Train')\n",
    "plt.plot(range(1, epochs + 1), test_losses, label='Test')\n",
    "plt.xlabel('Epochs')\n",
    "plt.ylabel('Loss')\n",
    "plt.title('Training and Test Loss')\n",
    "plt.legend()\n",
    "\n",
    "plt.subplot(1, 2, 2)\n",
    "plt.plot(range(1, epochs + 1), train_acc, label='Train')\n",
    "plt.plot(range(1, epochs + 1), test_acc, label='Test')\n",
    "plt.xlabel('Epochs')\n",
    "plt.ylabel('Accuracy')\n",
    "plt.title('Training and Test Accuracy')\n",
    "plt.legend()\n",
    "\n",
    "plt.tight_layout()\n",
    "plt.show()"
   ]
  },
  {
   "cell_type": "code",
   "execution_count": null,
   "id": "4f089989-1c09-431e-a7b6-75a9530ccc05",
   "metadata": {},
   "outputs": [],
   "source": [
    "# Візуалізація випадкового зображення\n",
    "import random\n",
    "\n",
    "# Вибір випадкового зображення з тестового датасету\n",
    "random_image_idx = random.randint(0, len(test_data)-1)\n",
    "random_image, random_label = test_data[random_image_idx]\n",
    "\n",
    "# Передача зображення через модель\n",
    "model.eval()\n",
    "with torch.no_grad():\n",
    "    output = model(random_image.unsqueeze(0))\n",
    "    predicted_label = torch.argmax(output, dim=1).item()\n",
    "\n",
    "# Відображення зображення та його прогнозованого мітки\n",
    "plt.figure(figsize=(6, 6))\n",
    "plt.imshow(random_image.squeeze(), cmap='gray')\n",
    "plt.title(f'Predicted: {predicted_label}, Actual: {random_label}')\n",
    "plt.axis('off')\n",
    "plt.show()"
   ]
  },
  {
   "cell_type": "code",
   "execution_count": null,
   "id": "66af0a15-459a-4b0f-b8d4-baf03ca7adc3",
   "metadata": {},
   "outputs": [],
   "source": [
    "# Оновлення помилки та точності для тестових даних в кінці кожної епохи\n",
    "loss = criterion(output, labels)\n",
    "test_losses.append(loss)\n",
    "test_correct.append((predicted == labels).sum().item())\n",
    "\n",
    "# Точність тестових даних для останньої епохи\n",
    "print(f'Test accuracy: {test_correct[-1] * 100 / len(test_data):.3f}%')\n",
    "\n",
    "# Збереження та завантаження моделі\n",
    "torch.save(model, 'model.pkl')\n",
    "model = torch.load('model.pkl')\n",
    "\n",
    "# Збереження тільки параметрів моделі\n",
    "torch.save(model.state_dict(), 'params.pkl')\n",
    "model.load_state_dict(torch.load('params.pkl'))"
   ]
  },
  {
   "cell_type": "code",
   "execution_count": null,
   "id": "7a9831c1-e81d-4595-82c9-5d688f576cca",
   "metadata": {},
   "outputs": [],
   "source": []
  },
  {
   "cell_type": "code",
   "execution_count": null,
   "id": "4cd39e49-c25c-4909-9ed6-e711c3b4f802",
   "metadata": {},
   "outputs": [],
   "source": []
  }
 ],
 "metadata": {
  "kernelspec": {
   "display_name": "Python 3 (ipykernel)",
   "language": "python",
   "name": "python3"
  },
  "language_info": {
   "codemirror_mode": {
    "name": "ipython",
    "version": 3
   },
   "file_extension": ".py",
   "mimetype": "text/x-python",
   "name": "python",
   "nbconvert_exporter": "python",
   "pygments_lexer": "ipython3",
   "version": "3.9.13"
  },
  "toc-autonumbering": true,
  "toc-showmarkdowntxt": true,
  "toc-showtags": true
 },
 "nbformat": 4,
 "nbformat_minor": 5
}
