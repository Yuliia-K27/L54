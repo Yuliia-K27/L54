{
  "nbformat": 4,
  "nbformat_minor": 0,
  "metadata": {
    "colab": {
      "provenance": [],
      "authorship_tag": "ABX9TyPuy5d7ljmSFpu/u46JoGFq"
    },
    "kernelspec": {
      "name": "python3",
      "display_name": "Python 3"
    },
    "language_info": {
      "name": "python"
    }
  },
  "cells": [
    {
      "cell_type": "code",
      "source": [
        "# Необхідні бібліотеки.\n",
        "import torch\n",
        "import torch.nn as nn\n",
        "import torch.optim as optim\n",
        "import torch.utils.data as data\n",
        "from torch.utils.data import DataLoader\n",
        "import torch.nn.functional as F\n",
        "import torchvision.transforms as transforms\n",
        "from torchvision import datasets\n",
        "import matplotlib.pyplot as plt\n",
        "\n",
        "%matplotlib inline\n",
        "\n",
        "# Встановлення випадкового початкового числа для відтворюваності\n",
        "torch.manual_seed(42)\n",
        "\n",
        "# Перетворення зображення в числа.\n",
        "transform = transforms.ToTensor()\n",
        "\n",
        "# Завантаження тренувального та тестового датасетів.\n",
        "train_data = datasets.MNIST(root='C:/Users/Admin/Downloads/Lesson 54', train=True, download=True, transform=transform)\n",
        "test_data = datasets.MNIST(root='C:/Users/Admin/Downloads/Lesson 54', train=False, download=False, transform=transform)\n",
        "train_data\n",
        "test_data"
      ],
      "metadata": {
        "colab": {
          "base_uri": "https://localhost:8080/"
        },
        "id": "iRbLY4tBEaIX",
        "outputId": "f7595066-1009-446d-de32-8e0af80cbae7"
      },
      "execution_count": 7,
      "outputs": [
        {
          "output_type": "stream",
          "name": "stdout",
          "text": [
            "Downloading http://yann.lecun.com/exdb/mnist/train-images-idx3-ubyte.gz\n",
            "Downloading http://yann.lecun.com/exdb/mnist/train-images-idx3-ubyte.gz to C:/Users/Admin/Downloads/Lesson 54/MNIST/raw/train-images-idx3-ubyte.gz\n"
          ]
        },
        {
          "output_type": "stream",
          "name": "stderr",
          "text": [
            "100%|██████████| 9912422/9912422 [00:00<00:00, 177168972.39it/s]"
          ]
        },
        {
          "output_type": "stream",
          "name": "stdout",
          "text": [
            "Extracting C:/Users/Admin/Downloads/Lesson 54/MNIST/raw/train-images-idx3-ubyte.gz to C:/Users/Admin/Downloads/Lesson 54/MNIST/raw\n"
          ]
        },
        {
          "output_type": "stream",
          "name": "stderr",
          "text": [
            "\n"
          ]
        },
        {
          "output_type": "stream",
          "name": "stdout",
          "text": [
            "\n",
            "Downloading http://yann.lecun.com/exdb/mnist/train-labels-idx1-ubyte.gz\n",
            "Downloading http://yann.lecun.com/exdb/mnist/train-labels-idx1-ubyte.gz to C:/Users/Admin/Downloads/Lesson 54/MNIST/raw/train-labels-idx1-ubyte.gz\n"
          ]
        },
        {
          "output_type": "stream",
          "name": "stderr",
          "text": [
            "100%|██████████| 28881/28881 [00:00<00:00, 61272480.44it/s]\n"
          ]
        },
        {
          "output_type": "stream",
          "name": "stdout",
          "text": [
            "Extracting C:/Users/Admin/Downloads/Lesson 54/MNIST/raw/train-labels-idx1-ubyte.gz to C:/Users/Admin/Downloads/Lesson 54/MNIST/raw\n",
            "\n",
            "Downloading http://yann.lecun.com/exdb/mnist/t10k-images-idx3-ubyte.gz\n",
            "Downloading http://yann.lecun.com/exdb/mnist/t10k-images-idx3-ubyte.gz to C:/Users/Admin/Downloads/Lesson 54/MNIST/raw/t10k-images-idx3-ubyte.gz\n"
          ]
        },
        {
          "output_type": "stream",
          "name": "stderr",
          "text": [
            "100%|██████████| 1648877/1648877 [00:00<00:00, 137266367.56it/s]"
          ]
        },
        {
          "output_type": "stream",
          "name": "stdout",
          "text": [
            "Extracting C:/Users/Admin/Downloads/Lesson 54/MNIST/raw/t10k-images-idx3-ubyte.gz to C:/Users/Admin/Downloads/Lesson 54/MNIST/raw\n"
          ]
        },
        {
          "output_type": "stream",
          "name": "stderr",
          "text": [
            "\n"
          ]
        },
        {
          "output_type": "stream",
          "name": "stdout",
          "text": [
            "\n",
            "Downloading http://yann.lecun.com/exdb/mnist/t10k-labels-idx1-ubyte.gz\n",
            "Downloading http://yann.lecun.com/exdb/mnist/t10k-labels-idx1-ubyte.gz to C:/Users/Admin/Downloads/Lesson 54/MNIST/raw/t10k-labels-idx1-ubyte.gz\n"
          ]
        },
        {
          "output_type": "stream",
          "name": "stderr",
          "text": [
            "100%|██████████| 4542/4542 [00:00<00:00, 14132439.74it/s]"
          ]
        },
        {
          "output_type": "stream",
          "name": "stdout",
          "text": [
            "Extracting C:/Users/Admin/Downloads/Lesson 54/MNIST/raw/t10k-labels-idx1-ubyte.gz to C:/Users/Admin/Downloads/Lesson 54/MNIST/raw\n",
            "\n"
          ]
        },
        {
          "output_type": "stream",
          "name": "stderr",
          "text": [
            "\n"
          ]
        },
        {
          "output_type": "execute_result",
          "data": {
            "text/plain": [
              "Dataset MNIST\n",
              "    Number of datapoints: 10000\n",
              "    Root location: C:/Users/Admin/Downloads/Lesson 54\n",
              "    Split: Test\n",
              "    StandardTransform\n",
              "Transform: ToTensor()"
            ]
          },
          "metadata": {},
          "execution_count": 7
        }
      ]
    },
    {
      "cell_type": "code",
      "source": [
        "# Створення завантажувача даних для тренувального датасету.\n",
        "train_loader = DataLoader(train_data, batch_size=100, shuffle=True)\n",
        "\n",
        "# Створення завантажувача даних для тестового датасету.\n",
        "test_loader = DataLoader(test_data, batch_size=500, shuffle=False)"
      ],
      "metadata": {
        "id": "NQLCpPldElS3"
      },
      "execution_count": 8,
      "outputs": []
    },
    {
      "cell_type": "code",
      "source": [
        "# Параметри моделі.\n",
        "input_size = 784\n",
        "hidden_sizes = [120, 84]\n",
        "output_size = 10\n",
        "\n",
        "# Створення класу для нейромережі.\n",
        "class Classification(nn.Module):\n",
        "    def __init__(self):\n",
        "        super(Classification, self).__init__()\n",
        "        self.fc1 = nn.Linear(input_size, hidden_sizes[0])\n",
        "        self.fc2 = nn.Linear(hidden_sizes[0], hidden_sizes[1])\n",
        "        self.fc3 = nn.Linear(hidden_sizes[1], output_size)\n",
        "\n",
        "    def forward(self, x):\n",
        "        x = x.view(-1, input_size)\n",
        "        x = F.relu(self.fc1(x))\n",
        "        x = F.relu(self.fc2(x))\n",
        "        x = self.fc3(x)\n",
        "        return x"
      ],
      "metadata": {
        "id": "L7AJT-CeEofb"
      },
      "execution_count": 9,
      "outputs": []
    },
    {
      "cell_type": "code",
      "source": [
        "# Створення об'єкту нейромережі.\n",
        "model = Classification()\n",
        "\n",
        "# Ініціалізація функції помилки та оптимізатора.\n",
        "criterion = nn.CrossEntropyLoss()\n",
        "optimizer = torch.optim.Adam(model.parameters(), lr=0.001)"
      ],
      "metadata": {
        "id": "vAwqsa1yEu6t"
      },
      "execution_count": 10,
      "outputs": []
    },
    {
      "cell_type": "code",
      "source": [
        "for images, labels in train_loader:\n",
        "    print('BEFORE [Initial data shape]:', images.size())\n",
        "    break\n",
        "print('AFTER [Data after reshaping]:', images.view(100, -1).size())"
      ],
      "metadata": {
        "colab": {
          "base_uri": "https://localhost:8080/"
        },
        "id": "0afj9GQ_Exbv",
        "outputId": "06283b83-3a6c-4d52-e552-051a7a263247"
      },
      "execution_count": 11,
      "outputs": [
        {
          "output_type": "stream",
          "name": "stdout",
          "text": [
            "BEFORE [Initial data shape]: torch.Size([100, 1, 28, 28])\n",
            "AFTER [Data after reshaping]: torch.Size([100, 784])\n"
          ]
        }
      ]
    },
    {
      "cell_type": "code",
      "source": [
        "# Тренування моделі.\n",
        "epochs = 10\n",
        "train_losses = []\n",
        "test_losses = []\n",
        "train_acc = []\n",
        "test_acc = []\n",
        "\n",
        "for epoch in range(epochs):\n",
        "    train_loss = 0.0\n",
        "    train_accuracy = 0.0\n",
        "\n",
        "    # Проходження по тренувальним пакетам.\n",
        "    model.train()\n",
        "    for images, labels in train_loader:\n",
        "        optimizer.zero_grad()\n",
        "        output = model(images)\n",
        "        loss = criterion(output, labels)\n",
        "        loss.backward()\n",
        "        optimizer.step()\n",
        "\n",
        "        _, predicted = torch.max(output.data, 1)\n",
        "        train_accuracy += (predicted == labels).sum().item()\n",
        "        train_loss += loss.item()\n",
        "\n",
        "    train_accuracy /= len(train_data)\n",
        "    train_loss /= len(train_loader)\n",
        "    train_losses.append(train_loss)\n",
        "    train_acc.append(train_accuracy)\n",
        "\n",
        "    # Оцінка моделі на тестових даних.\n",
        "    model.eval()\n",
        "    with torch.no_grad():\n",
        "        test_loss = 0.0\n",
        "        test_accuracy = 0.0\n",
        "        for images, labels in test_loader:\n",
        "            output = model(images)\n",
        "            loss = criterion(output, labels)\n",
        "            _, predicted = torch.max(output.data, 1)\n",
        "            test_accuracy += (predicted == labels).sum().item()\n",
        "            test_loss += loss.item()\n",
        "\n",
        "        test_accuracy /= len(test_data)\n",
        "        test_loss /= len(test_loader)\n",
        "        test_losses.append(test_loss)\n",
        "        test_acc.append(test_accuracy)\n",
        "\n",
        "    # Виведення прогресу під час тренування.\n",
        "    print(f'Епоха: {epoch+1}/{epochs}, Помилка тренування: {train_loss:.4f}, Точність тренування: {train_accuracy:.4f}, Помилка тестування: {test_loss:.4f}, Точність тестування: {test_accuracy:.4f}')\n",
        "\n",
        "# Візуалізація прогресу тренування.\n",
        "plt.figure(figsize=(12, 5))\n",
        "plt.subplot(1, 2, 1)\n",
        "plt.plot(range(1, epochs + 1), train_losses, label='Train')\n",
        "plt.plot(range(1, epochs + 1), test_losses, label='Test')\n",
        "plt.xlabel('Epochs')\n",
        "plt.ylabel('Loss')\n",
        "plt.title('Training and Test Loss')\n",
        "plt.legend()\n",
        "\n",
        "plt.subplot(1, 2, 2)\n",
        "plt.plot(range(1, epochs + 1), train_acc, label='Train')\n",
        "plt.plot(range(1, epochs + 1), test_acc, label='Test')\n",
        "plt.xlabel('Epochs')\n",
        "plt.ylabel('Accuracy')\n",
        "plt.title('Training and Test Accuracy')\n",
        "plt.legend()\n",
        "\n",
        "plt.tight_layout()\n",
        "plt.show()"
      ],
      "metadata": {
        "colab": {
          "base_uri": "https://localhost:8080/",
          "height": 681
        },
        "id": "5olcKeKnE1tW",
        "outputId": "dc5672cb-6e90-48cc-9be5-169035f1a53d"
      },
      "execution_count": 12,
      "outputs": [
        {
          "output_type": "stream",
          "name": "stdout",
          "text": [
            "Епоха: 1/10, Помилка тренування: 0.3864, Точність тренування: 0.8913, Помилка тестування: 0.1863, Точність тестування: 0.9457\n",
            "Епоха: 2/10, Помилка тренування: 0.1566, Точність тренування: 0.9539, Помилка тестування: 0.1237, Точність тестування: 0.9634\n",
            "Епоха: 3/10, Помилка тренування: 0.1063, Точність тренування: 0.9683, Помилка тестування: 0.0988, Точність тестування: 0.9695\n",
            "Епоха: 4/10, Помилка тренування: 0.0792, Точність тренування: 0.9760, Помилка тестування: 0.0979, Точність тестування: 0.9690\n",
            "Епоха: 5/10, Помилка тренування: 0.0619, Точність тренування: 0.9805, Помилка тестування: 0.0782, Точність тестування: 0.9747\n",
            "Епоха: 6/10, Помилка тренування: 0.0494, Точність тренування: 0.9849, Помилка тестування: 0.0819, Точність тестування: 0.9734\n",
            "Епоха: 7/10, Помилка тренування: 0.0392, Точність тренування: 0.9879, Помилка тестування: 0.0789, Точність тестування: 0.9752\n",
            "Епоха: 8/10, Помилка тренування: 0.0340, Точність тренування: 0.9886, Помилка тестування: 0.0768, Точність тестування: 0.9767\n",
            "Епоха: 9/10, Помилка тренування: 0.0261, Точність тренування: 0.9919, Помилка тестування: 0.0792, Точність тестування: 0.9764\n",
            "Епоха: 10/10, Помилка тренування: 0.0229, Точність тренування: 0.9925, Помилка тестування: 0.0870, Точність тестування: 0.9745\n"
          ]
        },
        {
          "output_type": "display_data",
          "data": {
            "text/plain": [
              "<Figure size 1200x500 with 2 Axes>"
            ],
            "image/png": "[encoded data removed]"
          },
          "metadata": {}
        }
      ]
    },
    {
      "cell_type": "code",
      "source": [
        "# Візуалізація випадкового зображення\n",
        "import random\n",
        "\n",
        "# Вибір випадкового зображення з тестового датасету\n",
        "random_image_idx = random.randint(0, len(test_data)-1)\n",
        "random_image, random_label = test_data[random_image_idx]\n",
        "\n",
        "# Передача зображення через модель\n",
        "model.eval()\n",
        "with torch.no_grad():\n",
        "    output = model(random_image.unsqueeze(0))\n",
        "    predicted_label = torch.argmax(output, dim=1).item()\n",
        "\n",
        "# Відображення зображення та його прогнозованого мітки\n",
        "plt.figure(figsize=(6, 6))\n",
        "plt.imshow(random_image.squeeze(), cmap='gray')\n",
        "plt.title(f'Predicted: {predicted_label}, Actual: {random_label}')\n",
        "plt.axis('off')\n",
        "plt.show()"
      ],
      "metadata": {
        "colab": {
          "base_uri": "https://localhost:8080/",
          "height": 521
        },
        "id": "k1pyCwxRFkkI",
        "outputId": "90f2c576-46e7-45c3-9683-5ea8f612a40f"
      },
      "execution_count": 13,
      "outputs": [
        {
          "output_type": "display_data",
          "data": {
            "text/plain": [
              "<Figure size 600x600 with 1 Axes>"
            ],
            "image/png": "[encoded data removed]"
          },
          "metadata": {}
        }
      ]
    },
    {
      "cell_type": "code",
      "source": [
        "# Оновлення втрат та точності для тестових даних в кінці кожної епохи\n",
        "model.eval()\n",
        "test_loss = 0.0\n",
        "test_correct = 0\n",
        "\n",
        "with torch.no_grad():\n",
        "    for images, labels in test_loader:\n",
        "        output = model(images)\n",
        "        loss = criterion(output, labels)\n",
        "        test_loss += loss.item()\n",
        "        _, predicted_labels = torch.max(output, 1)\n",
        "        test_correct += (predicted_labels == labels).sum().item()\n",
        "\n",
        "test_loss /= len(test_loader)\n",
        "test_accuracy = test_correct / len(test_data)\n",
        "test_losses.append(test_loss)\n",
        "test_acc.append(test_accuracy)\n",
        "\n",
        "# Точність тестових даних для останньої епохи\n",
        "print(f'Test accuracy: {test_acc[-1] * 100:.3f}%')\n",
        "\n",
        "# Збереження та завантаження моделі\n",
        "torch.save(model, 'model.pkl')\n",
        "model = torch.load('model.pkl')\n",
        "\n",
        "# Збереження тільки параметрів моделі\n",
        "torch.save(model.state_dict(), 'params.pkl')\n",
        "model.load_state_dict(torch.load('params.pkl'))\n",
        "\n"
      ],
      "metadata": {
        "colab": {
          "base_uri": "https://localhost:8080/"
        },
        "id": "KgUwKQCIFpaq",
        "outputId": "3492d579-022b-4c09-c5f0-e20168354c61"
      },
      "execution_count": 16,
      "outputs": [
        {
          "output_type": "stream",
          "name": "stdout",
          "text": [
            "Test accuracy: 97.450%\n"
          ]
        },
        {
          "output_type": "execute_result",
          "data": {
            "text/plain": [
              "<All keys matched successfully>"
            ]
          },
          "metadata": {},
          "execution_count": 16
        }
      ]
    }
  ]
}